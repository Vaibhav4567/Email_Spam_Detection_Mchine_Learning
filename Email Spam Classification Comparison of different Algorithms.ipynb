{
 "cells": [
  {
   "cell_type": "code",
   "execution_count": 1,
   "id": "01974b82",
   "metadata": {},
   "outputs": [],
   "source": [
    "import pandas as pd\n",
    "messages=pd.read_csv(r'C:\\Users\\pc\\Desktop\\Machine Learning\\SmsSpamOrHam\\sms+spam+collection\\SMSCollection.csv', sep='\\t', names= [\"label\",\"message\"])\n",
    "\n",
    "import nltk\n",
    "import re\n",
    "\n",
    "from nltk.corpus import stopwords\n",
    "from nltk.stem import WordNetLemmatizer"
   ]
  },
  {
   "cell_type": "code",
   "execution_count": 2,
   "id": "c3081250",
   "metadata": {},
   "outputs": [
    {
     "data": {
      "text/html": [
       "<div>\n",
       "<style scoped>\n",
       "    .dataframe tbody tr th:only-of-type {\n",
       "        vertical-align: middle;\n",
       "    }\n",
       "\n",
       "    .dataframe tbody tr th {\n",
       "        vertical-align: top;\n",
       "    }\n",
       "\n",
       "    .dataframe thead th {\n",
       "        text-align: right;\n",
       "    }\n",
       "</style>\n",
       "<table border=\"1\" class=\"dataframe\">\n",
       "  <thead>\n",
       "    <tr style=\"text-align: right;\">\n",
       "      <th></th>\n",
       "      <th>label</th>\n",
       "      <th>message</th>\n",
       "    </tr>\n",
       "  </thead>\n",
       "  <tbody>\n",
       "    <tr>\n",
       "      <th>0</th>\n",
       "      <td>ham</td>\n",
       "      <td>Go until jurong point, crazy.. Available only ...</td>\n",
       "    </tr>\n",
       "    <tr>\n",
       "      <th>1</th>\n",
       "      <td>ham</td>\n",
       "      <td>Ok lar... Joking wif u oni...</td>\n",
       "    </tr>\n",
       "    <tr>\n",
       "      <th>2</th>\n",
       "      <td>spam</td>\n",
       "      <td>Free entry in 2 a wkly comp to win FA Cup fina...</td>\n",
       "    </tr>\n",
       "    <tr>\n",
       "      <th>3</th>\n",
       "      <td>ham</td>\n",
       "      <td>U dun say so early hor... U c already then say...</td>\n",
       "    </tr>\n",
       "    <tr>\n",
       "      <th>4</th>\n",
       "      <td>ham</td>\n",
       "      <td>Nah I don't think he goes to usf, he lives aro...</td>\n",
       "    </tr>\n",
       "  </tbody>\n",
       "</table>\n",
       "</div>"
      ],
      "text/plain": [
       "  label                                            message\n",
       "0   ham  Go until jurong point, crazy.. Available only ...\n",
       "1   ham                      Ok lar... Joking wif u oni...\n",
       "2  spam  Free entry in 2 a wkly comp to win FA Cup fina...\n",
       "3   ham  U dun say so early hor... U c already then say...\n",
       "4   ham  Nah I don't think he goes to usf, he lives aro..."
      ]
     },
     "execution_count": 2,
     "metadata": {},
     "output_type": "execute_result"
    }
   ],
   "source": [
    "messages.head()"
   ]
  },
  {
   "cell_type": "code",
   "execution_count": 3,
   "id": "eec7b0b3",
   "metadata": {},
   "outputs": [
    {
     "data": {
      "text/html": [
       "<div>\n",
       "<style scoped>\n",
       "    .dataframe tbody tr th:only-of-type {\n",
       "        vertical-align: middle;\n",
       "    }\n",
       "\n",
       "    .dataframe tbody tr th {\n",
       "        vertical-align: top;\n",
       "    }\n",
       "\n",
       "    .dataframe thead th {\n",
       "        text-align: right;\n",
       "    }\n",
       "</style>\n",
       "<table border=\"1\" class=\"dataframe\">\n",
       "  <thead>\n",
       "    <tr style=\"text-align: right;\">\n",
       "      <th></th>\n",
       "      <th>label</th>\n",
       "      <th>message</th>\n",
       "    </tr>\n",
       "  </thead>\n",
       "  <tbody>\n",
       "    <tr>\n",
       "      <th>5567</th>\n",
       "      <td>spam</td>\n",
       "      <td>This is the 2nd time we have tried 2 contact u...</td>\n",
       "    </tr>\n",
       "    <tr>\n",
       "      <th>5568</th>\n",
       "      <td>ham</td>\n",
       "      <td>Will ü b going to esplanade fr home?</td>\n",
       "    </tr>\n",
       "    <tr>\n",
       "      <th>5569</th>\n",
       "      <td>ham</td>\n",
       "      <td>Pity, * was in mood for that. So...any other s...</td>\n",
       "    </tr>\n",
       "    <tr>\n",
       "      <th>5570</th>\n",
       "      <td>ham</td>\n",
       "      <td>The guy did some bitching but I acted like i'd...</td>\n",
       "    </tr>\n",
       "    <tr>\n",
       "      <th>5571</th>\n",
       "      <td>ham</td>\n",
       "      <td>Rofl. Its true to its name</td>\n",
       "    </tr>\n",
       "  </tbody>\n",
       "</table>\n",
       "</div>"
      ],
      "text/plain": [
       "     label                                            message\n",
       "5567  spam  This is the 2nd time we have tried 2 contact u...\n",
       "5568   ham               Will ü b going to esplanade fr home?\n",
       "5569   ham  Pity, * was in mood for that. So...any other s...\n",
       "5570   ham  The guy did some bitching but I acted like i'd...\n",
       "5571   ham                         Rofl. Its true to its name"
      ]
     },
     "execution_count": 3,
     "metadata": {},
     "output_type": "execute_result"
    }
   ],
   "source": [
    "messages.tail()"
   ]
  },
  {
   "cell_type": "code",
   "execution_count": 4,
   "id": "1d3a3c1e",
   "metadata": {},
   "outputs": [],
   "source": [
    "wnl=WordNetLemmatizer()\n",
    "corpus=[]\n",
    "for i in range(0,len(messages)):\n",
    "    review=re.sub('[^a-zA-Z]',' ',messages['message'][i])\n",
    "    review=review.lower()\n",
    "    review=review.split()\n",
    "    \n",
    "    review=[wnl.lemmatize(word) for word in review if not word in stopwords.words('english')]\n",
    "    review=' '.join(review)\n",
    "    corpus.append(review)"
   ]
  },
  {
   "cell_type": "code",
   "execution_count": 5,
   "id": "47443202",
   "metadata": {},
   "outputs": [
    {
     "data": {
      "text/plain": [
       "array([0, 0, 1, ..., 0, 0, 0], dtype=uint8)"
      ]
     },
     "execution_count": 5,
     "metadata": {},
     "output_type": "execute_result"
    }
   ],
   "source": [
    "from sklearn.feature_extraction.text import CountVectorizer\n",
    "cv=CountVectorizer(max_features=5000) \n",
    "X=cv.fit_transform(corpus).toarray() \n",
    "\n",
    "y=pd.get_dummies(messages['label'])\n",
    "y=y.iloc[:,1].values \n",
    "y"
   ]
  },
  {
   "cell_type": "code",
   "execution_count": 6,
   "id": "5802f1dc",
   "metadata": {},
   "outputs": [],
   "source": [
    "#Multinomial Naive Bayes\n",
    "from sklearn.model_selection import train_test_split\n",
    "from sklearn.naive_bayes import MultinomialNB\n",
    "\n",
    "X_train, X_test, y_train, y_test = train_test_split(X, y, test_size=0.20, random_state=0)\n",
    "\n",
    "mv = MultinomialNB()\n",
    "spam_detection_model = mv.fit(X_train, y_train)\n",
    "\n",
    "y_pred_nb = spam_detection_model.predict(X_test)"
   ]
  },
  {
   "cell_type": "code",
   "execution_count": 7,
   "id": "cfbf69a7",
   "metadata": {},
   "outputs": [],
   "source": [
    "#Random Forest Classifier\n",
    "from sklearn.model_selection import train_test_split\n",
    "from sklearn.ensemble import RandomForestClassifier\n",
    "\n",
    "X_train, X_test, y_train, y_test = train_test_split(X, y, test_size=0.20, random_state=0)\n",
    "\n",
    "rf = RandomForestClassifier()\n",
    "spam_detection_model = rf.fit(X_train, y_train)\n",
    "\n",
    "y_pred_rf = spam_detection_model.predict(X_test)"
   ]
  },
  {
   "cell_type": "code",
   "execution_count": null,
   "id": "e17ff1b6",
   "metadata": {},
   "outputs": [],
   "source": [
    "#Decision Tree Classifier\n",
    "from sklearn.model_selection import train_test_split\n",
    "from sklearn.tree import DecisionTreeClassifier\n",
    "\n",
    "X_train, X_test, y_train, y_test = train_test_split(X, y, test_size=0.20, random_state=0)\n",
    "\n",
    "dt = DecisionTreeClassifier()\n",
    "spam_detection_model = dt.fit(X_train, y_train)\n",
    "\n",
    "y_pred_dt= spam_detection_model.predict(X_test)"
   ]
  },
  {
   "cell_type": "code",
   "execution_count": null,
   "id": "c6d7450f",
   "metadata": {},
   "outputs": [],
   "source": [
    "#K-Nearest Neighbours Classifier\n",
    "from sklearn.model_selection import train_test_split\n",
    "from sklearn.neighbors import KNeighborsClassifier\n",
    "\n",
    "X_train, X_test, y_train, y_test = train_test_split(X, y, test_size=0.20, random_state=0)\n",
    "\n",
    "knn = KNeighborsClassifier()\n",
    "spam_detection_model = knn.fit(X_train, y_train)\n",
    "\n",
    "y_pred_knn = spam_detection_model.predict(X_test)"
   ]
  },
  {
   "cell_type": "code",
   "execution_count": null,
   "id": "89f4efa0",
   "metadata": {},
   "outputs": [],
   "source": [
    "#Support Vector Classifier\n",
    "from sklearn.model_selection import train_test_split\n",
    "from sklearn.svm import SVC\n",
    "\n",
    "X_train, X_test, y_train, y_test = train_test_split(X, y, test_size=0.20, random_state=0)\n",
    "\n",
    "svc = SVC()\n",
    "spam_detection_model = svc.fit(X_train, y_train)\n",
    "\n",
    "y_pred_svc = spam_detection_model.predict(X_test)"
   ]
  },
  {
   "cell_type": "code",
   "execution_count": null,
   "id": "03e83325",
   "metadata": {},
   "outputs": [],
   "source": [
    "from sklearn.metrics import confusion_matrix, accuracy_score, f1_score"
   ]
  },
  {
   "cell_type": "code",
   "execution_count": null,
   "id": "6ca03fc9",
   "metadata": {},
   "outputs": [],
   "source": [
    "# Confusion Matrices\n",
    "conf_matrix_nb = confusion_matrix(y_test, y_pred_nb)\n",
    "conf_matrix_svc = confusion_matrix(y_test, y_pred_svc)\n",
    "conf_matrix_rf = confusion_matrix(y_test, y_pred_rf)\n",
    "conf_matrix_dt = confusion_matrix(y_test, y_pred_dt)\n",
    "conf_matrix_knn = confusion_matrix(y_test, y_pred_knn)"
   ]
  },
  {
   "cell_type": "code",
   "execution_count": null,
   "id": "470e7f71",
   "metadata": {},
   "outputs": [],
   "source": [
    "# Accuracy Scores\n",
    "accuracy_nb = accuracy_score(y_test, y_pred_nb)\n",
    "accuracy_svc = accuracy_score(y_test, y_pred_svc)\n",
    "accuracy_rf = accuracy_score(y_test, y_pred_rf)\n",
    "accuracy_dt = accuracy_score(y_test, y_pred_dt)\n",
    "accuracy_knn = accuracy_score(y_test, y_pred_knn)"
   ]
  },
  {
   "cell_type": "code",
   "execution_count": null,
   "id": "a39dd654",
   "metadata": {},
   "outputs": [],
   "source": [
    "# F1 Scores\n",
    "f1_nb = f1_score(y_test, y_pred_nb, average='weighted')\n",
    "f1_svc = f1_score(y_test, y_pred_svc, average='weighted')\n",
    "f1_rf = f1_score(y_test, y_pred_rf, average='weighted')\n",
    "f1_dt = f1_score(y_test, y_pred_dt, average='weighted')\n",
    "f1_knn = f1_score(y_test, y_pred_knn, average='weighted')"
   ]
  },
  {
   "cell_type": "code",
   "execution_count": 20,
   "id": "6b110655",
   "metadata": {},
   "outputs": [
    {
     "name": "stdout",
     "output_type": "stream",
     "text": [
      "Multinomial Naive Bayes:\n",
      "Confusion Matrix:\n",
      " [[944  11]\n",
      " [  9 151]]\n",
      "Accuracy: 0.9820627802690582\n",
      "F1 Score: 0.9821090848618373\n",
      "\n",
      "SVM:\n",
      "Confusion Matrix:\n",
      " [[955   0]\n",
      " [ 17 143]]\n",
      "Accuracy: 0.9847533632286996\n",
      "F1 Score: 0.9843929052347059\n",
      "\n",
      "Random Forest:\n",
      "Confusion Matrix:\n",
      " [[955   0]\n",
      " [ 20 140]]\n",
      "Accuracy: 0.9820627802690582\n",
      "F1 Score: 0.98155781190703\n",
      "\n",
      "Decision Tree:\n",
      "Confusion Matrix:\n",
      " [[955   0]\n",
      " [ 94  66]]\n",
      "Accuracy: 0.915695067264574\n",
      "F1 Score: 0.9001398369973018\n",
      "\n",
      "KNN:\n",
      "Confusion Matrix:\n",
      " [[955   0]\n",
      " [ 94  66]]\n",
      "Accuracy: 0.915695067264574\n",
      "F1 Score: 0.9001398369973018\n"
     ]
    }
   ],
   "source": [
    "print(\"Multinomial Naive Bayes:\")\n",
    "print(\"Confusion Matrix:\\n\", conf_matrix_nb)\n",
    "print(\"Accuracy:\", accuracy_nb)\n",
    "print(\"F1 Score:\", f1_nb)\n",
    "\n",
    "print(\"\\nSVM:\")\n",
    "print(\"Confusion Matrix:\\n\", conf_matrix_svc)\n",
    "print(\"Accuracy:\", accuracy_svc)\n",
    "print(\"F1 Score:\", f1_svc)\n",
    "\n",
    "print(\"\\nRandom Forest:\")\n",
    "print(\"Confusion Matrix:\\n\", conf_matrix_rf)\n",
    "print(\"Accuracy:\", accuracy_rf)\n",
    "print(\"F1 Score:\", f1_rf)\n",
    "\n",
    "print(\"\\nDecision Tree:\")\n",
    "print(\"Confusion Matrix:\\n\", conf_matrix_dt)\n",
    "print(\"Accuracy:\", accuracy_dt)\n",
    "print(\"F1 Score:\", f1_dt)\n",
    "\n",
    "print(\"\\nKNN:\")\n",
    "print(\"Confusion Matrix:\\n\", conf_matrix_knn)\n",
    "print(\"Accuracy:\", accuracy_knn)\n",
    "print(\"F1 Score:\", f1_knn)"
   ]
  },
  {
   "cell_type": "code",
   "execution_count": 21,
   "id": "23513530",
   "metadata": {},
   "outputs": [
    {
     "data": {
      "image/png": "[encoded data removed]",
      "text/plain": [
       "<Figure size 1000x600 with 1 Axes>"
      ]
     },
     "metadata": {},
     "output_type": "display_data"
    }
   ],
   "source": [
    "import matplotlib.pyplot as plt\n",
    "\n",
    "classifiers = ['Multinomial Naive Bayes', 'SVM', 'Random Forest', 'Decision Tree', 'KNN']\n",
    "\n",
    "accuracies = [accuracy_nb, accuracy_svc, accuracy_rf, accuracy_dt, accuracy_knn]\n",
    "\n",
    "plt.figure(figsize=(10, 6))\n",
    "plt.bar(classifiers, accuracies, color=['blue', 'green', 'orange', 'red', 'purple'])\n",
    "plt.xlabel('Classification Algorithms')\n",
    "plt.ylabel('Accuracy')\n",
    "plt.title('Comparison of Classification Algorithms')\n",
    "plt.ylim(0.8, 1.0)  # Set the y-axis range for better visualization\n",
    "plt.grid(True)\n",
    "plt.show()"
   ]
  }
 ],
 "metadata": {
  "kernelspec": {
   "display_name": "Python 3 (ipykernel)",
   "language": "python",
   "name": "python3"
  },
  "language_info": {
   "codemirror_mode": {
    "name": "ipython",
    "version": 3
   },
   "file_extension": ".py",
   "mimetype": "text/x-python",
   "name": "python",
   "nbconvert_exporter": "python",
   "pygments_lexer": "ipython3",
   "version": "3.11.4"
  }
 },
 "nbformat": 4,
 "nbformat_minor": 5
}
